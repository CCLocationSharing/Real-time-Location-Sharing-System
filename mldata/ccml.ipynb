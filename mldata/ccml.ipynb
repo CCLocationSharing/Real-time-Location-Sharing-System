{
 "cells": [
  {
   "cell_type": "code",
   "execution_count": 162,
   "metadata": {},
   "outputs": [],
   "source": [
    "import os\n",
    "import boto3\n",
    "import re\n",
    "from sagemaker import get_execution_role\n",
    "#retrives the IAM role created at the time of creating the notebook instance\n",
    "role = get_execution_role()\n",
    "bucket='ccprojectmlpart'\n",
    "prefix = 'sagemaker/cc-ml-part' # place to upload training files within the bucket"
   ]
  },
  {
   "cell_type": "code",
   "execution_count": 163,
   "metadata": {},
   "outputs": [],
   "source": [
    "import pandas as pd\n",
    "import numpy as np\n",
    "import matplotlib.pyplot as plt\n",
    "import io\n",
    "import time\n",
    "import json\n",
    "import sagemaker.amazon.common as smac"
   ]
  },
  {
   "cell_type": "code",
   "execution_count": 164,
   "metadata": {},
   "outputs": [
    {
     "name": "stdout",
     "output_type": "stream",
     "text": [
      "(50, 5)\n"
     ]
    },
    {
     "data": {
      "text/html": [
       "<div>\n",
       "<style scoped>\n",
       "    .dataframe tbody tr th:only-of-type {\n",
       "        vertical-align: middle;\n",
       "    }\n",
       "\n",
       "    .dataframe tbody tr th {\n",
       "        vertical-align: top;\n",
       "    }\n",
       "\n",
       "    .dataframe thead th {\n",
       "        text-align: right;\n",
       "    }\n",
       "</style>\n",
       "<table border=\"1\" class=\"dataframe\">\n",
       "  <thead>\n",
       "    <tr style=\"text-align: right;\">\n",
       "      <th></th>\n",
       "      <th>result</th>\n",
       "      <th>varone</th>\n",
       "      <th>vartwo</th>\n",
       "      <th>varthree</th>\n",
       "      <th>varfour</th>\n",
       "    </tr>\n",
       "  </thead>\n",
       "  <tbody>\n",
       "    <tr>\n",
       "      <th>0</th>\n",
       "      <td>NO</td>\n",
       "      <td>0.519938</td>\n",
       "      <td>0.173180</td>\n",
       "      <td>0.633713</td>\n",
       "      <td>0.202430</td>\n",
       "    </tr>\n",
       "    <tr>\n",
       "      <th>1</th>\n",
       "      <td>NO</td>\n",
       "      <td>0.136409</td>\n",
       "      <td>0.481856</td>\n",
       "      <td>0.424786</td>\n",
       "      <td>0.649426</td>\n",
       "    </tr>\n",
       "    <tr>\n",
       "      <th>2</th>\n",
       "      <td>NO</td>\n",
       "      <td>0.023278</td>\n",
       "      <td>0.394771</td>\n",
       "      <td>0.562469</td>\n",
       "      <td>0.311281</td>\n",
       "    </tr>\n",
       "    <tr>\n",
       "      <th>3</th>\n",
       "      <td>NO</td>\n",
       "      <td>0.756794</td>\n",
       "      <td>0.014019</td>\n",
       "      <td>0.336345</td>\n",
       "      <td>0.275777</td>\n",
       "    </tr>\n",
       "    <tr>\n",
       "      <th>4</th>\n",
       "      <td>NO</td>\n",
       "      <td>0.492956</td>\n",
       "      <td>0.074432</td>\n",
       "      <td>0.552733</td>\n",
       "      <td>0.644069</td>\n",
       "    </tr>\n",
       "  </tbody>\n",
       "</table>\n",
       "</div>"
      ],
      "text/plain": [
       "  result    varone    vartwo  varthree   varfour\n",
       "0     NO  0.519938  0.173180  0.633713  0.202430\n",
       "1     NO  0.136409  0.481856  0.424786  0.649426\n",
       "2     NO  0.023278  0.394771  0.562469  0.311281\n",
       "3     NO  0.756794  0.014019  0.336345  0.275777\n",
       "4     NO  0.492956  0.074432  0.552733  0.644069"
      ]
     },
     "metadata": {},
     "output_type": "display_data"
    },
    {
     "data": {
      "text/html": [
       "<div>\n",
       "<style scoped>\n",
       "    .dataframe tbody tr th:only-of-type {\n",
       "        vertical-align: middle;\n",
       "    }\n",
       "\n",
       "    .dataframe tbody tr th {\n",
       "        vertical-align: top;\n",
       "    }\n",
       "\n",
       "    .dataframe thead th {\n",
       "        text-align: right;\n",
       "    }\n",
       "</style>\n",
       "<table border=\"1\" class=\"dataframe\">\n",
       "  <thead>\n",
       "    <tr style=\"text-align: right;\">\n",
       "      <th></th>\n",
       "      <th>varone</th>\n",
       "      <th>vartwo</th>\n",
       "      <th>varthree</th>\n",
       "      <th>varfour</th>\n",
       "    </tr>\n",
       "  </thead>\n",
       "  <tbody>\n",
       "    <tr>\n",
       "      <th>count</th>\n",
       "      <td>50.000000</td>\n",
       "      <td>50.000000</td>\n",
       "      <td>50.000000</td>\n",
       "      <td>50.000000</td>\n",
       "    </tr>\n",
       "    <tr>\n",
       "      <th>mean</th>\n",
       "      <td>0.475385</td>\n",
       "      <td>0.527252</td>\n",
       "      <td>0.572910</td>\n",
       "      <td>0.490557</td>\n",
       "    </tr>\n",
       "    <tr>\n",
       "      <th>std</th>\n",
       "      <td>0.270341</td>\n",
       "      <td>0.290081</td>\n",
       "      <td>0.270727</td>\n",
       "      <td>0.277395</td>\n",
       "    </tr>\n",
       "    <tr>\n",
       "      <th>min</th>\n",
       "      <td>0.010261</td>\n",
       "      <td>0.014019</td>\n",
       "      <td>0.032338</td>\n",
       "      <td>0.050878</td>\n",
       "    </tr>\n",
       "    <tr>\n",
       "      <th>25%</th>\n",
       "      <td>0.292841</td>\n",
       "      <td>0.315270</td>\n",
       "      <td>0.359292</td>\n",
       "      <td>0.231376</td>\n",
       "    </tr>\n",
       "    <tr>\n",
       "      <th>50%</th>\n",
       "      <td>0.480992</td>\n",
       "      <td>0.566433</td>\n",
       "      <td>0.586123</td>\n",
       "      <td>0.531381</td>\n",
       "    </tr>\n",
       "    <tr>\n",
       "      <th>75%</th>\n",
       "      <td>0.698647</td>\n",
       "      <td>0.753215</td>\n",
       "      <td>0.779030</td>\n",
       "      <td>0.649322</td>\n",
       "    </tr>\n",
       "    <tr>\n",
       "      <th>max</th>\n",
       "      <td>0.943509</td>\n",
       "      <td>0.964364</td>\n",
       "      <td>0.987397</td>\n",
       "      <td>0.988831</td>\n",
       "    </tr>\n",
       "  </tbody>\n",
       "</table>\n",
       "</div>"
      ],
      "text/plain": [
       "          varone     vartwo   varthree    varfour\n",
       "count  50.000000  50.000000  50.000000  50.000000\n",
       "mean    0.475385   0.527252   0.572910   0.490557\n",
       "std     0.270341   0.290081   0.270727   0.277395\n",
       "min     0.010261   0.014019   0.032338   0.050878\n",
       "25%     0.292841   0.315270   0.359292   0.231376\n",
       "50%     0.480992   0.566433   0.586123   0.531381\n",
       "75%     0.698647   0.753215   0.779030   0.649322\n",
       "max     0.943509   0.964364   0.987397   0.988831"
      ]
     },
     "metadata": {},
     "output_type": "display_data"
    }
   ],
   "source": [
    "#data = pd.read_csv('https://raw.githubusercontent.com/CCLocationSharing/Real-time-Location-Sharing-System/data/mldata/data.csv', header = None)\n",
    "data = pd.read_csv('https://raw.githubusercontent.com/CCLocationSharing/Real-time-Location-Sharing-System/data/mldata/ccMlData.csv', header = None)\n",
    "# specify columns extracted from wbdc.names\n",
    "\n",
    "#data.columns = [\"libID\",\"Quiet\",\"Monitor\", \"carpenter\", \"olin\", \"uris\", \"gates\"] \n",
    "#data.columns = [\"id\",\"default\",\"student\", \"balance\", \"income\"] \n",
    "data.columns = [\"result\",\"varone\", \"vartwo\", \"varthree\", \"varfour\"] \n",
    "\n",
    "# save the data\n",
    "data.to_csv(\"data.csv\", sep=',', index=False)\n",
    "\n",
    "# print the shape of the data file\n",
    "print(data.shape)\n",
    "\n",
    "# show the top few rows\n",
    "display(data.head())\n",
    "\n",
    "# describe the data object\n",
    "display(data.describe())\n",
    "\n",
    "# we will also summarize the categorical field diganosis \n",
    "#display(data.libID.value_counts())\n",
    "#display(data.result.value_counts())\n"
   ]
  },
  {
   "cell_type": "code",
   "execution_count": 165,
   "metadata": {},
   "outputs": [],
   "source": [
    "rand_split = np.random.rand(len(data))\n",
    "train_list = rand_split < 0.8\n",
    "val_list = (rand_split >= 0.8) & (rand_split < 0.9)\n",
    "test_list = rand_split >= 0.9\n",
    "\n",
    "data_train = data[train_list]\n",
    "data_val = data[val_list]\n",
    "data_test = data[test_list]\n",
    "\n",
    "'''train_y = data_train.iloc[:,0].as_matrix();\n",
    "train_X = data_train.iloc[:,1:].as_matrix();\n",
    "\n",
    "val_y = data_val.iloc[:,0].as_matrix();\n",
    "val_X = data_val.iloc[:,1:].as_matrix();\n",
    "\n",
    "test_y = data_test.iloc[:,0].as_matrix();\n",
    "test_X = data_test.iloc[:,1:].as_matrix();\n",
    "'''\n",
    "train_y = ((data_train.iloc[:,0] == 'YES') +0).as_matrix();\n",
    "train_X = data_train.iloc[:,1:].as_matrix();\n",
    "\n",
    "val_y = ((data_val.iloc[:,0] == 'YES') +0).as_matrix();\n",
    "val_X = data_val.iloc[:,1:].as_matrix();\n",
    "\n",
    "test_y = ((data_test.iloc[:,0] == 'YES') +0).as_matrix();\n",
    "test_X = data_test.iloc[:,1:].as_matrix();\n"
   ]
  },
  {
   "cell_type": "code",
   "execution_count": 166,
   "metadata": {},
   "outputs": [
    {
     "name": "stdout",
     "output_type": "stream",
     "text": [
      "[0 0 0 0 0 1 1 1 1 1 1 1 1 1 1 1 0 1 0 1 1 0 0 1 1 0 1 1 0 0 1 1 0 0 1 0 0\n",
      " 1 0 1 0 1]\n",
      "[[0.51993766 0.17318025 0.63371295 0.20242995]\n",
      " [0.13640929 0.48185619 0.42478645 0.64942554]\n",
      " [0.02327758 0.39477098 0.56246897 0.31128063]\n",
      " [0.7567938  0.01401877 0.3363448  0.27577676]\n",
      " [0.02512522 0.26670951 0.59530745 0.16573655]\n",
      " [0.78154871 0.11528718 0.95544239 0.91645942]\n",
      " [0.9435091  0.61716638 0.93558834 0.21657582]\n",
      " [0.73313068 0.52364606 0.98739705 0.59304095]\n",
      " [0.60682575 0.0781276  0.39936557 0.96186042]\n",
      " [0.83456227 0.92460014 0.54947621 0.83661171]\n",
      " [0.48111848 0.07000166 0.60175019 0.64901302]\n",
      " [0.80189377 0.89769405 0.68219139 0.35680329]\n",
      " [0.44058437 0.31114204 0.90655993 0.57597697]\n",
      " [0.69667095 0.40909037 0.76919531 0.54789997]\n",
      " [0.09703876 0.9236951  0.57693808 0.83189458]\n",
      " [0.19985    0.73498447 0.03535947 0.8534839 ]\n",
      " [0.51452358 0.15549792 0.53456131 0.53142992]\n",
      " [0.56592684 0.55773727 0.74315405 0.34594877]\n",
      " [0.05513692 0.38505634 0.40651158 0.49125867]\n",
      " [0.60177593 0.45387416 0.78849975 0.74030491]\n",
      " [0.707898   0.64167339 0.44769439 0.83094323]\n",
      " [0.63634561 0.57512808 0.1263928  0.65449791]\n",
      " [0.92710944 0.36067659 0.55299522 0.30687981]\n",
      " [0.75878986 0.964364   0.78231742 0.37965298]\n",
      " [0.44186917 0.42562714 0.98509293 0.98883113]\n",
      " [0.53044045 0.61426189 0.18982988 0.63333403]\n",
      " [0.83903139 0.59174304 0.67186206 0.55998539]\n",
      " [0.69920604 0.4328103  0.71228977 0.93141401]\n",
      " [0.42370615 0.63932506 0.20716626 0.6070857 ]\n",
      " [0.2019582  0.3097809  0.34593418 0.07143431]\n",
      " [0.28029896 0.74904748 0.78099625 0.39335878]\n",
      " [0.31340581 0.84491971 0.86486228 0.7970046 ]\n",
      " [0.38484544 0.82303603 0.45779297 0.05758562]\n",
      " [0.28598652 0.71168113 0.93899473 0.10944434]\n",
      " [0.83577817 0.7885426  0.22926847 0.64669436]\n",
      " [0.48086551 0.1602939  0.23831415 0.1846138 ]\n",
      " [0.14667213 0.32765418 0.25883987 0.62922806]\n",
      " [0.33175138 0.92994611 0.23979192 0.93627842]\n",
      " [0.35837897 0.91644814 0.31436314 0.32155229]\n",
      " [0.02582885 0.93391218 0.98180091 0.15072802]\n",
      " [0.86022539 0.65764761 0.72460253 0.13477732]\n",
      " [0.69696908 0.02207973 0.98498109 0.52809816]]\n"
     ]
    }
   ],
   "source": [
    "print(train_y)\n",
    "print(train_X)"
   ]
  },
  {
   "cell_type": "code",
   "execution_count": 167,
   "metadata": {},
   "outputs": [],
   "source": [
    "#convert the datasets to the recordIO-wrapped protobuf format used by the Amazon SageMaker algorithms, and then upload this data to S3.\n",
    "train_file = 'linear_train.data'\n",
    "\n",
    "f = io.BytesIO()\n",
    "smac.write_numpy_to_dense_tensor(f, train_X.astype('float32'), train_y.astype('float32'))\n",
    "f.seek(0)\n",
    "\n",
    "boto3.Session().resource('s3').Bucket(bucket).Object(os.path.join(prefix, 'train', train_file)).upload_fileobj(f)"
   ]
  },
  {
   "cell_type": "code",
   "execution_count": 168,
   "metadata": {},
   "outputs": [],
   "source": [
    "#convert and upload the validation dataset.\n",
    "validation_file = 'linear_validation.data'\n",
    "\n",
    "f = io.BytesIO()\n",
    "smac.write_numpy_to_dense_tensor(f, val_X.astype('float32'), val_y.astype('float32'))\n",
    "f.seek(0)\n",
    "\n",
    "boto3.Session().resource('s3').Bucket(bucket).Object(os.path.join(prefix, 'validation', validation_file)).upload_fileobj(f)"
   ]
  },
  {
   "cell_type": "code",
   "execution_count": 169,
   "metadata": {},
   "outputs": [],
   "source": [
    "# See 'Algorithms Provided by Amazon SageMaker: Common Parameters' in the SageMaker documentation for an explanation of these values.\n",
    "containers = {'us-west-2': '174872318107.dkr.ecr.us-west-2.amazonaws.com/linear-learner:latest',\n",
    "              'us-east-1': '382416733822.dkr.ecr.us-east-1.amazonaws.com/linear-learner:latest',\n",
    "              'us-east-2': '404615174143.dkr.ecr.us-east-2.amazonaws.com/linear-learner:latest',\n",
    "              'eu-west-1': '438346466558.dkr.ecr.eu-west-1.amazonaws.com/linear-learner:latest'}"
   ]
  },
  {
   "cell_type": "code",
   "execution_count": 170,
   "metadata": {},
   "outputs": [
    {
     "name": "stdout",
     "output_type": "stream",
     "text": [
      "Job name is: cc-ml-2018-05-01-21-33-11\n"
     ]
    }
   ],
   "source": [
    "#Train\n",
    "\n",
    "linear_job = 'cc-ml-' + time.strftime(\"%Y-%m-%d-%H-%M-%S\", time.gmtime())\n",
    "\n",
    "\n",
    "\n",
    "print(\"Job name is:\", linear_job)\n",
    "\n",
    "linear_training_params = {\n",
    "    \"RoleArn\": role,\n",
    "    \"TrainingJobName\": linear_job,\n",
    "    \"AlgorithmSpecification\": {\n",
    "        \"TrainingImage\": containers[boto3.Session().region_name],\n",
    "        \"TrainingInputMode\": \"File\"\n",
    "    },\n",
    "    \"ResourceConfig\": {\n",
    "        \"InstanceCount\": 1,\n",
    "        \"InstanceType\": \"ml.c4.2xlarge\",\n",
    "        \"VolumeSizeInGB\": 10\n",
    "    },\n",
    "    \"InputDataConfig\": [\n",
    "        {\n",
    "            \"ChannelName\": \"train\",\n",
    "            \"DataSource\": {\n",
    "                \"S3DataSource\": {\n",
    "                    \"S3DataType\": \"S3Prefix\",\n",
    "                    \"S3Uri\": \"s3://{}/{}/train/\".format(bucket, prefix),\n",
    "                    \"S3DataDistributionType\": \"ShardedByS3Key\"\n",
    "                }\n",
    "            },\n",
    "            \"CompressionType\": \"None\",\n",
    "            \"RecordWrapperType\": \"None\"\n",
    "        },\n",
    "        {\n",
    "            \"ChannelName\": \"validation\",\n",
    "            \"DataSource\": {\n",
    "                \"S3DataSource\": {\n",
    "                    \"S3DataType\": \"S3Prefix\",\n",
    "                    \"S3Uri\": \"s3://{}/{}/validation/\".format(bucket, prefix),\n",
    "                    \"S3DataDistributionType\": \"FullyReplicated\"\n",
    "                }\n",
    "            },\n",
    "            \"CompressionType\": \"None\",\n",
    "            \"RecordWrapperType\": \"None\"\n",
    "        }\n",
    "\n",
    "    ],\n",
    "    \"OutputDataConfig\": {\n",
    "        \"S3OutputPath\": \"s3://{}/{}/\".format(bucket, prefix)\n",
    "    },\n",
    "    \"HyperParameters\": {\n",
    "        \"feature_dim\": \"4\",\n",
    "        \"mini_batch_size\": \"100\",\n",
    "        \"predictor_type\": \"regressor\",\n",
    "        \"epochs\": \"10\",\n",
    "        \"num_models\": \"auto\",\n",
    "        \"loss\": \"auto\"\n",
    "    },\n",
    "    \"StoppingCondition\": {\n",
    "        \"MaxRuntimeInSeconds\": 60 * 60\n",
    "    }\n",
    "}"
   ]
  },
  {
   "cell_type": "code",
   "execution_count": 171,
   "metadata": {},
   "outputs": [
    {
     "name": "stdout",
     "output_type": "stream",
     "text": [
      "InProgress\n"
     ]
    },
    {
     "ename": "WaiterError",
     "evalue": "Waiter TrainingJobCompletedOrStopped failed: Waiter encountered a terminal failure state",
     "output_type": "error",
     "traceback": [
      "\u001b[0;31m---------------------------------------------------------------------------\u001b[0m",
      "\u001b[0;31mWaiterError\u001b[0m                               Traceback (most recent call last)",
      "\u001b[0;32m<timed exec>\u001b[0m in \u001b[0;36m<module>\u001b[0;34m()\u001b[0m\n",
      "\u001b[0;32m~/anaconda3/envs/python3/lib/python3.6/site-packages/botocore/waiter.py\u001b[0m in \u001b[0;36mwait\u001b[0;34m(self, **kwargs)\u001b[0m\n\u001b[1;32m     51\u001b[0m     \u001b[0;31m# method.\u001b[0m\u001b[0;34m\u001b[0m\u001b[0;34m\u001b[0m\u001b[0m\n\u001b[1;32m     52\u001b[0m     \u001b[0;32mdef\u001b[0m \u001b[0mwait\u001b[0m\u001b[0;34m(\u001b[0m\u001b[0mself\u001b[0m\u001b[0;34m,\u001b[0m \u001b[0;34m**\u001b[0m\u001b[0mkwargs\u001b[0m\u001b[0;34m)\u001b[0m\u001b[0;34m:\u001b[0m\u001b[0;34m\u001b[0m\u001b[0m\n\u001b[0;32m---> 53\u001b[0;31m         \u001b[0mWaiter\u001b[0m\u001b[0;34m.\u001b[0m\u001b[0mwait\u001b[0m\u001b[0;34m(\u001b[0m\u001b[0mself\u001b[0m\u001b[0;34m,\u001b[0m \u001b[0;34m**\u001b[0m\u001b[0mkwargs\u001b[0m\u001b[0;34m)\u001b[0m\u001b[0;34m\u001b[0m\u001b[0m\n\u001b[0m\u001b[1;32m     54\u001b[0m \u001b[0;34m\u001b[0m\u001b[0m\n\u001b[1;32m     55\u001b[0m     wait.__doc__ = WaiterDocstring(\n",
      "\u001b[0;32m~/anaconda3/envs/python3/lib/python3.6/site-packages/botocore/waiter.py\u001b[0m in \u001b[0;36mwait\u001b[0;34m(self, **kwargs)\u001b[0m\n\u001b[1;32m    321\u001b[0m                     \u001b[0mname\u001b[0m\u001b[0;34m=\u001b[0m\u001b[0mself\u001b[0m\u001b[0;34m.\u001b[0m\u001b[0mname\u001b[0m\u001b[0;34m,\u001b[0m\u001b[0;34m\u001b[0m\u001b[0m\n\u001b[1;32m    322\u001b[0m                     \u001b[0mreason\u001b[0m\u001b[0;34m=\u001b[0m\u001b[0;34m'Waiter encountered a terminal failure state'\u001b[0m\u001b[0;34m,\u001b[0m\u001b[0;34m\u001b[0m\u001b[0m\n\u001b[0;32m--> 323\u001b[0;31m                     \u001b[0mlast_response\u001b[0m\u001b[0;34m=\u001b[0m\u001b[0mresponse\u001b[0m\u001b[0;34m,\u001b[0m\u001b[0;34m\u001b[0m\u001b[0m\n\u001b[0m\u001b[1;32m    324\u001b[0m                 )\n\u001b[1;32m    325\u001b[0m             \u001b[0;32mif\u001b[0m \u001b[0mnum_attempts\u001b[0m \u001b[0;34m>=\u001b[0m \u001b[0mmax_attempts\u001b[0m\u001b[0;34m:\u001b[0m\u001b[0;34m\u001b[0m\u001b[0m\n",
      "\u001b[0;31mWaiterError\u001b[0m: Waiter TrainingJobCompletedOrStopped failed: Waiter encountered a terminal failure state"
     ]
    }
   ],
   "source": [
    "%%time\n",
    "\n",
    "region = boto3.Session().region_name\n",
    "sm = boto3.client('sagemaker')\n",
    "\n",
    "sm.create_training_job(**linear_training_params)\n",
    "\n",
    "status = sm.describe_training_job(TrainingJobName=linear_job)['TrainingJobStatus']\n",
    "print(status)\n",
    "sm.get_waiter('training_job_completed_or_stopped').wait(TrainingJobName=linear_job)\n",
    "if status == 'Failed':\n",
    "    message = sm.describe_training_job(TrainingJobName=linear_job)['FailureReason']\n",
    "    print('Training failed with the following error: {}'.format(message))\n",
    "    raise Exception('Training job failed')"
   ]
  },
  {
   "cell_type": "code",
   "execution_count": 176,
   "metadata": {},
   "outputs": [
    {
     "name": "stdout",
     "output_type": "stream",
     "text": [
      "['endpoint_deleted', 'endpoint_in_service', 'notebook_instance_deleted', 'notebook_instance_in_service', 'notebook_instance_stopped', 'training_job_completed_or_stopped']\n"
     ]
    }
   ],
   "source": [
    "print(sm.waiter_names)"
   ]
  },
  {
   "cell_type": "code",
   "execution_count": 173,
   "metadata": {},
   "outputs": [
    {
     "name": "stdout",
     "output_type": "stream",
     "text": [
      "<botocore.client.SageMaker object at 0x7f6dd904bac8>\n"
     ]
    }
   ],
   "source": [
    "print(sm)"
   ]
  },
  {
   "cell_type": "code",
   "execution_count": 175,
   "metadata": {},
   "outputs": [
    {
     "ename": "SyntaxError",
     "evalue": "invalid syntax (<ipython-input-175-cb07f82168d7>, line 1)",
     "output_type": "error",
     "traceback": [
      "\u001b[0;36m  File \u001b[0;32m\"<ipython-input-175-cb07f82168d7>\"\u001b[0;36m, line \u001b[0;32m1\u001b[0m\n\u001b[0;31m    print(sm.class())\u001b[0m\n\u001b[0m                 ^\u001b[0m\n\u001b[0;31mSyntaxError\u001b[0m\u001b[0;31m:\u001b[0m invalid syntax\n"
     ]
    }
   ],
   "source": [
    "print(sm.class())"
   ]
  },
  {
   "cell_type": "code",
   "execution_count": null,
   "metadata": {},
   "outputs": [],
   "source": []
  }
 ],
 "metadata": {
  "kernelspec": {
   "display_name": "conda_python3",
   "language": "python",
   "name": "conda_python3"
  },
  "language_info": {
   "codemirror_mode": {
    "name": "ipython",
    "version": 3
   },
   "file_extension": ".py",
   "mimetype": "text/x-python",
   "name": "python",
   "nbconvert_exporter": "python",
   "pygments_lexer": "ipython3",
   "version": "3.6.4"
  }
 },
 "nbformat": 4,
 "nbformat_minor": 2
}
